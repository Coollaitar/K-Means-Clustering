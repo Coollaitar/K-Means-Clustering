{
 "cells": [
  {
   "cell_type": "code",
   "execution_count": 1,
   "id": "a8570fe9",
   "metadata": {},
   "outputs": [],
   "source": [
    "import pandas as pd\n",
    "import numpy as np\n",
    "import matplotlib.pyplot as plt\n",
    "from sklearn import preprocessing\n",
    "from sklearn.preprocessing import MinMaxScaler\n",
    "import seaborn as sns\n",
    "from sklearn.preprocessing import LabelEncoder\n",
    "from sklearn.model_selection import train_test_split\n",
    "import sklearn.metrics as metrics\n",
    "from sklearn.cluster import KMeans \n",
    "import sklearn.cluster as cluster"
   ]
  },
  {
   "cell_type": "code",
   "execution_count": 2,
   "id": "e9d9c7b1",
   "metadata": {
    "scrolled": false
   },
   "outputs": [
    {
     "data": {
      "text/html": [
       "<div>\n",
       "<style scoped>\n",
       "    .dataframe tbody tr th:only-of-type {\n",
       "        vertical-align: middle;\n",
       "    }\n",
       "\n",
       "    .dataframe tbody tr th {\n",
       "        vertical-align: top;\n",
       "    }\n",
       "\n",
       "    .dataframe thead th {\n",
       "        text-align: right;\n",
       "    }\n",
       "</style>\n",
       "<table border=\"1\" class=\"dataframe\">\n",
       "  <thead>\n",
       "    <tr style=\"text-align: right;\">\n",
       "      <th></th>\n",
       "      <th>Attribute1</th>\n",
       "      <th>Attribute2</th>\n",
       "    </tr>\n",
       "  </thead>\n",
       "  <tbody>\n",
       "    <tr>\n",
       "      <th>0</th>\n",
       "      <td>2</td>\n",
       "      <td>10</td>\n",
       "    </tr>\n",
       "    <tr>\n",
       "      <th>1</th>\n",
       "      <td>2</td>\n",
       "      <td>5</td>\n",
       "    </tr>\n",
       "    <tr>\n",
       "      <th>2</th>\n",
       "      <td>8</td>\n",
       "      <td>4</td>\n",
       "    </tr>\n",
       "    <tr>\n",
       "      <th>3</th>\n",
       "      <td>5</td>\n",
       "      <td>8</td>\n",
       "    </tr>\n",
       "    <tr>\n",
       "      <th>4</th>\n",
       "      <td>7</td>\n",
       "      <td>5</td>\n",
       "    </tr>\n",
       "    <tr>\n",
       "      <th>5</th>\n",
       "      <td>6</td>\n",
       "      <td>4</td>\n",
       "    </tr>\n",
       "    <tr>\n",
       "      <th>6</th>\n",
       "      <td>1</td>\n",
       "      <td>2</td>\n",
       "    </tr>\n",
       "    <tr>\n",
       "      <th>7</th>\n",
       "      <td>4</td>\n",
       "      <td>9</td>\n",
       "    </tr>\n",
       "  </tbody>\n",
       "</table>\n",
       "</div>"
      ],
      "text/plain": [
       "   Attribute1  Attribute2\n",
       "0           2          10\n",
       "1           2           5\n",
       "2           8           4\n",
       "3           5           8\n",
       "4           7           5\n",
       "5           6           4\n",
       "6           1           2\n",
       "7           4           9"
      ]
     },
     "execution_count": 2,
     "metadata": {},
     "output_type": "execute_result"
    }
   ],
   "source": [
    "l1= pd.Series({'Attribute1':2,'Attribute2':10})\n",
    "l2= pd.Series({'Attribute1':2,'Attribute2':5})\n",
    "l3= pd.Series({'Attribute1':8,'Attribute2':4})\n",
    "l4= pd.Series({'Attribute1':5,'Attribute2':8})\n",
    "l5= pd.Series({'Attribute1':7,'Attribute2':5})\n",
    "l6= pd.Series({'Attribute1':6,'Attribute2':4})\n",
    "l7= pd.Series({'Attribute1':1,'Attribute2':2})\n",
    "l8= pd.Series({'Attribute1':4,'Attribute2':9})\n",
    "df = pd.DataFrame([l1,l2,l3,l4,l5,l6,l7,l8])\n",
    "df\n"
   ]
  },
  {
   "cell_type": "markdown",
   "id": "9f175c5e",
   "metadata": {},
   "source": [
    "## Scaling"
   ]
  },
  {
   "cell_type": "code",
   "execution_count": 3,
   "id": "3aebd83e",
   "metadata": {},
   "outputs": [
    {
     "data": {
      "text/html": [
       "<div>\n",
       "<style scoped>\n",
       "    .dataframe tbody tr th:only-of-type {\n",
       "        vertical-align: middle;\n",
       "    }\n",
       "\n",
       "    .dataframe tbody tr th {\n",
       "        vertical-align: top;\n",
       "    }\n",
       "\n",
       "    .dataframe thead th {\n",
       "        text-align: right;\n",
       "    }\n",
       "</style>\n",
       "<table border=\"1\" class=\"dataframe\">\n",
       "  <thead>\n",
       "    <tr style=\"text-align: right;\">\n",
       "      <th></th>\n",
       "      <th>Attribute1</th>\n",
       "      <th>Attribute2</th>\n",
       "    </tr>\n",
       "  </thead>\n",
       "  <tbody>\n",
       "    <tr>\n",
       "      <th>0</th>\n",
       "      <td>0.142857</td>\n",
       "      <td>1.000</td>\n",
       "    </tr>\n",
       "    <tr>\n",
       "      <th>1</th>\n",
       "      <td>0.142857</td>\n",
       "      <td>0.375</td>\n",
       "    </tr>\n",
       "    <tr>\n",
       "      <th>2</th>\n",
       "      <td>1.000000</td>\n",
       "      <td>0.250</td>\n",
       "    </tr>\n",
       "    <tr>\n",
       "      <th>3</th>\n",
       "      <td>0.571429</td>\n",
       "      <td>0.750</td>\n",
       "    </tr>\n",
       "    <tr>\n",
       "      <th>4</th>\n",
       "      <td>0.857143</td>\n",
       "      <td>0.375</td>\n",
       "    </tr>\n",
       "    <tr>\n",
       "      <th>5</th>\n",
       "      <td>0.714286</td>\n",
       "      <td>0.250</td>\n",
       "    </tr>\n",
       "    <tr>\n",
       "      <th>6</th>\n",
       "      <td>0.000000</td>\n",
       "      <td>0.000</td>\n",
       "    </tr>\n",
       "    <tr>\n",
       "      <th>7</th>\n",
       "      <td>0.428571</td>\n",
       "      <td>0.875</td>\n",
       "    </tr>\n",
       "  </tbody>\n",
       "</table>\n",
       "</div>"
      ],
      "text/plain": [
       "   Attribute1  Attribute2\n",
       "0    0.142857       1.000\n",
       "1    0.142857       0.375\n",
       "2    1.000000       0.250\n",
       "3    0.571429       0.750\n",
       "4    0.857143       0.375\n",
       "5    0.714286       0.250\n",
       "6    0.000000       0.000\n",
       "7    0.428571       0.875"
      ]
     },
     "execution_count": 3,
     "metadata": {},
     "output_type": "execute_result"
    }
   ],
   "source": [
    "scaler = MinMaxScaler()\n",
    "scale=scaler.fit_transform(df[['Attribute1','Attribute2']])\n",
    "df_scale=pd.DataFrame(scale,columns=['Attribute1','Attribute2']);\n",
    "df_scale"
   ]
  },
  {
   "cell_type": "code",
   "execution_count": 4,
   "id": "caaa3b48",
   "metadata": {},
   "outputs": [],
   "source": [
    "km=KMeans(n_clusters=3)"
   ]
  },
  {
   "cell_type": "code",
   "execution_count": 5,
   "id": "60fc7c5f",
   "metadata": {},
   "outputs": [
    {
     "data": {
      "text/plain": [
       "array([2, 1, 0, 2, 0, 0, 1, 2])"
      ]
     },
     "execution_count": 5,
     "metadata": {},
     "output_type": "execute_result"
    }
   ],
   "source": [
    "y_km = km.fit_predict(df[['Attribute1','Attribute2']])\n",
    "y_km"
   ]
  },
  {
   "cell_type": "code",
   "execution_count": 6,
   "id": "db44eb0c",
   "metadata": {
    "scrolled": true
   },
   "outputs": [
    {
     "data": {
      "text/plain": [
       "array([[7.        , 4.33333333],\n",
       "       [1.5       , 3.5       ],\n",
       "       [3.66666667, 9.        ]])"
      ]
     },
     "execution_count": 6,
     "metadata": {},
     "output_type": "execute_result"
    }
   ],
   "source": [
    "km.cluster_centers_"
   ]
  },
  {
   "cell_type": "code",
   "execution_count": 30,
   "id": "7d81ec3c",
   "metadata": {},
   "outputs": [
    {
     "data": {
      "text/plain": [
       "array([[7.        , 4.33333333, 1.5       ],\n",
       "       [3.5       , 3.66666667, 9.        ]])"
      ]
     },
     "execution_count": 30,
     "metadata": {},
     "output_type": "execute_result"
    }
   ],
   "source": [
    "km.cluster_centers_.reshape(2,3)"
   ]
  },
  {
   "cell_type": "code",
   "execution_count": 7,
   "id": "bf63fe8f",
   "metadata": {},
   "outputs": [],
   "source": [
    "kmeans=cluster.KMeans(n_clusters=3,init=\"k-means++\")\n",
    "kmeans = kmeans.fit(df[['Attribute1','Attribute2']])\n"
   ]
  },
  {
   "cell_type": "code",
   "execution_count": 8,
   "id": "bc0ebd1a",
   "metadata": {
    "scrolled": true
   },
   "outputs": [
    {
     "data": {
      "text/plain": [
       "<AxesSubplot:xlabel='Attribute1', ylabel='Attribute2'>"
      ]
     },
     "execution_count": 8,
     "metadata": {},
     "output_type": "execute_result"
    },
    {
     "data": {
      "image/png": "[encoded data removed]",
      "text/plain": [
       "<Figure size 432x288 with 1 Axes>"
      ]
     },
     "metadata": {
      "needs_background": "light"
     },
     "output_type": "display_data"
    }
   ],
   "source": [
    "df[\"Clusters\"] = kmeans.labels_\n",
    "sns.scatterplot(x=\"Attribute1\",y=\"Attribute2\",hue=\"Clusters\",data=df,palette='viridis')"
   ]
  },
  {
   "cell_type": "code",
   "execution_count": 9,
   "id": "b684a027",
   "metadata": {},
   "outputs": [],
   "source": [
    "K = range(2,8)\n",
    "wss=[]"
   ]
  },
  {
   "cell_type": "code",
   "execution_count": 10,
   "id": "b62aa4c2",
   "metadata": {},
   "outputs": [],
   "source": [
    " for k in K:\n",
    "    kmeans=cluster.KMeans(n_clusters=k)"
   ]
  },
  {
   "cell_type": "code",
   "execution_count": 11,
   "id": "c8434ad2",
   "metadata": {},
   "outputs": [],
   "source": [
    "kmeans=kmeans.fit(df_scale)"
   ]
  },
  {
   "cell_type": "code",
   "execution_count": 12,
   "id": "3a10c9e5",
   "metadata": {},
   "outputs": [],
   "source": [
    "wss_iter=kmeans.inertia_\n",
    "wss.append(wss_iter)"
   ]
  },
  {
   "cell_type": "code",
   "execution_count": 14,
   "id": "d0622708",
   "metadata": {},
   "outputs": [
    {
     "name": "stdout",
     "output_type": "stream",
     "text": [
      "Silhouette score for k(clusters) = 2 is 0.3960790641612191\n",
      "Silhouette score for k(clusters) = 3 is 0.5648525330501148\n",
      "Silhouette score for k(clusters) = 4 is 0.47751663091430685\n",
      "Silhouette score for k(clusters) = 5 is 0.3687975125416946\n",
      "Silhouette score for k(clusters) = 6 is 0.16804352358468255\n",
      "Silhouette score for k(clusters) = 7 is 0.04195198583801057\n"
     ]
    }
   ],
   "source": [
    "import sklearn.cluster as cluster\n",
    "import sklearn.metrics as metrics\n",
    "for i in range(2,8):\n",
    "    labels=cluster.KMeans(n_clusters=i,random_state=200).fit(df_scale).labels_\n",
    "    print (\"Silhouette score for k(clusters) = \"+str(i)+\" is \"\n",
    "    +str(metrics.silhouette_score(df_scale,labels,metric=\"euclidean\",sample_size=1000,random_state=200)))"
   ]
  },
  {
   "cell_type": "markdown",
   "id": "9d714fbe",
   "metadata": {},
   "source": [
    "### So the best K value is 3 as it has highest score."
   ]
  },
  {
   "cell_type": "code",
   "execution_count": null,
   "id": "94105e1f",
   "metadata": {},
   "outputs": [],
   "source": []
  }
 ],
 "metadata": {
  "kernelspec": {
   "display_name": "Python 3",
   "language": "python",
   "name": "python3"
  },
  "language_info": {
   "codemirror_mode": {
    "name": "ipython",
    "version": 3
   },
   "file_extension": ".py",
   "mimetype": "text/x-python",
   "name": "python",
   "nbconvert_exporter": "python",
   "pygments_lexer": "ipython3",
   "version": "3.8.8"
  }
 },
 "nbformat": 4,
 "nbformat_minor": 5
}
